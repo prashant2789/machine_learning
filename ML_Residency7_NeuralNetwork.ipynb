{
 "cells": [
  {
   "cell_type": "code",
   "execution_count": 1,
   "metadata": {
    "colab": {
     "base_uri": "https://localhost:8080/",
     "height": 68
    },
    "colab_type": "code",
    "id": "XZ8MRhP2QvN5",
    "outputId": "507feb24-04e1-4bf2-f768-95560f050a9d"
   },
   "outputs": [
    {
     "name": "stdout",
     "output_type": "stream",
     "text": [
      "total 676\n",
      "drwxr-xr-x 1 root root   4096 Jul 19 16:14 \u001b[0m\u001b[01;34msample_data\u001b[0m/\n",
      "-rw-r--r-- 1 root root 684858 Jul 24 04:35 bank.csv\n"
     ]
    }
   ],
   "source": [
    "ls -lr"
   ]
  },
  {
   "cell_type": "markdown",
   "metadata": {
    "colab_type": "text",
    "id": "bXw2PYbHSoob"
   },
   "source": [
    "1. Read the dataset"
   ]
  },
  {
   "cell_type": "code",
   "execution_count": 0,
   "metadata": {
    "colab": {},
    "colab_type": "code",
    "id": "2EI6cXb8Q3i6"
   },
   "outputs": [],
   "source": [
    "import theano\n",
    "import tensorflow\n",
    "import numpy as np\n",
    "import matplotlib.pyplot as plt\n",
    "import pandas as pd\n",
    "\n",
    "import os"
   ]
  },
  {
   "cell_type": "code",
   "execution_count": 30,
   "metadata": {
    "colab": {
     "base_uri": "https://localhost:8080/",
     "height": 224
    },
    "colab_type": "code",
    "id": "vPgCaRZIRAHh",
    "outputId": "46eeccd6-dd0b-4834-e58d-6a7cdeb8b27d"
   },
   "outputs": [
    {
     "data": {
      "text/html": [
       "<div>\n",
       "<style scoped>\n",
       "    .dataframe tbody tr th:only-of-type {\n",
       "        vertical-align: middle;\n",
       "    }\n",
       "\n",
       "    .dataframe tbody tr th {\n",
       "        vertical-align: top;\n",
       "    }\n",
       "\n",
       "    .dataframe thead th {\n",
       "        text-align: right;\n",
       "    }\n",
       "</style>\n",
       "<table border=\"1\" class=\"dataframe\">\n",
       "  <thead>\n",
       "    <tr style=\"text-align: right;\">\n",
       "      <th></th>\n",
       "      <th>RowNumber</th>\n",
       "      <th>CustomerId</th>\n",
       "      <th>Surname</th>\n",
       "      <th>CreditScore</th>\n",
       "      <th>Geography</th>\n",
       "      <th>Gender</th>\n",
       "      <th>Age</th>\n",
       "      <th>Tenure</th>\n",
       "      <th>Balance</th>\n",
       "      <th>NumOfProducts</th>\n",
       "      <th>HasCrCard</th>\n",
       "      <th>IsActiveMember</th>\n",
       "      <th>EstimatedSalary</th>\n",
       "      <th>Exited</th>\n",
       "    </tr>\n",
       "  </thead>\n",
       "  <tbody>\n",
       "    <tr>\n",
       "      <th>0</th>\n",
       "      <td>1</td>\n",
       "      <td>15634602</td>\n",
       "      <td>Hargrave</td>\n",
       "      <td>619</td>\n",
       "      <td>France</td>\n",
       "      <td>Female</td>\n",
       "      <td>42</td>\n",
       "      <td>2</td>\n",
       "      <td>0.00</td>\n",
       "      <td>1</td>\n",
       "      <td>1</td>\n",
       "      <td>1</td>\n",
       "      <td>101348.88</td>\n",
       "      <td>1</td>\n",
       "    </tr>\n",
       "    <tr>\n",
       "      <th>1</th>\n",
       "      <td>2</td>\n",
       "      <td>15647311</td>\n",
       "      <td>Hill</td>\n",
       "      <td>608</td>\n",
       "      <td>Spain</td>\n",
       "      <td>Female</td>\n",
       "      <td>41</td>\n",
       "      <td>1</td>\n",
       "      <td>83807.86</td>\n",
       "      <td>1</td>\n",
       "      <td>0</td>\n",
       "      <td>1</td>\n",
       "      <td>112542.58</td>\n",
       "      <td>0</td>\n",
       "    </tr>\n",
       "    <tr>\n",
       "      <th>2</th>\n",
       "      <td>3</td>\n",
       "      <td>15619304</td>\n",
       "      <td>Onio</td>\n",
       "      <td>502</td>\n",
       "      <td>France</td>\n",
       "      <td>Female</td>\n",
       "      <td>42</td>\n",
       "      <td>8</td>\n",
       "      <td>159660.80</td>\n",
       "      <td>3</td>\n",
       "      <td>1</td>\n",
       "      <td>0</td>\n",
       "      <td>113931.57</td>\n",
       "      <td>1</td>\n",
       "    </tr>\n",
       "    <tr>\n",
       "      <th>3</th>\n",
       "      <td>4</td>\n",
       "      <td>15701354</td>\n",
       "      <td>Boni</td>\n",
       "      <td>699</td>\n",
       "      <td>France</td>\n",
       "      <td>Female</td>\n",
       "      <td>39</td>\n",
       "      <td>1</td>\n",
       "      <td>0.00</td>\n",
       "      <td>2</td>\n",
       "      <td>0</td>\n",
       "      <td>0</td>\n",
       "      <td>93826.63</td>\n",
       "      <td>0</td>\n",
       "    </tr>\n",
       "    <tr>\n",
       "      <th>4</th>\n",
       "      <td>5</td>\n",
       "      <td>15737888</td>\n",
       "      <td>Mitchell</td>\n",
       "      <td>850</td>\n",
       "      <td>Spain</td>\n",
       "      <td>Female</td>\n",
       "      <td>43</td>\n",
       "      <td>2</td>\n",
       "      <td>125510.82</td>\n",
       "      <td>1</td>\n",
       "      <td>1</td>\n",
       "      <td>1</td>\n",
       "      <td>79084.10</td>\n",
       "      <td>0</td>\n",
       "    </tr>\n",
       "  </tbody>\n",
       "</table>\n",
       "</div>"
      ],
      "text/plain": [
       "   RowNumber  CustomerId   Surname  ...  IsActiveMember EstimatedSalary Exited\n",
       "0          1    15634602  Hargrave  ...               1       101348.88      1\n",
       "1          2    15647311      Hill  ...               1       112542.58      0\n",
       "2          3    15619304      Onio  ...               0       113931.57      1\n",
       "3          4    15701354      Boni  ...               0        93826.63      0\n",
       "4          5    15737888  Mitchell  ...               1        79084.10      0\n",
       "\n",
       "[5 rows x 14 columns]"
      ]
     },
     "execution_count": 30,
     "metadata": {
      "tags": []
     },
     "output_type": "execute_result"
    }
   ],
   "source": [
    "#importing the dataset\n",
    "dataset = pd.read_csv('bank.csv')\n",
    "dataset.head()"
   ]
  },
  {
   "cell_type": "markdown",
   "metadata": {
    "colab_type": "text",
    "id": "AOiEn5FeStT_"
   },
   "source": [
    "2. Drop the columns which are unique for all users like IDs (5 points)"
   ]
  },
  {
   "cell_type": "code",
   "execution_count": 0,
   "metadata": {
    "colab": {},
    "colab_type": "code",
    "id": "nFLUY4WXRT1k"
   },
   "outputs": [],
   "source": [
    "\n",
    "X = dataset.iloc[:,3:13].values # Credit Score through Estimated Salary\n",
    "y = dataset.iloc[:, 13].values # Exited"
   ]
  },
  {
   "cell_type": "markdown",
   "metadata": {
    "colab_type": "text",
    "id": "IGuvmPMKS2wJ"
   },
   "source": [
    "3. Distinguish the feature and target set (5 points)"
   ]
  },
  {
   "cell_type": "code",
   "execution_count": 7,
   "metadata": {
    "colab": {
     "base_uri": "https://localhost:8080/",
     "height": 136
    },
    "colab_type": "code",
    "id": "2-pXDw6GRH4E",
    "outputId": "5d86778f-bc16-4aa3-b00d-51485e038d10"
   },
   "outputs": [
    {
     "data": {
      "text/plain": [
       "array([[619, 'France', 'Female', ..., 1, 1, 101348.88],\n",
       "       [608, 'Spain', 'Female', ..., 0, 1, 112542.58],\n",
       "       [502, 'France', 'Female', ..., 1, 0, 113931.57],\n",
       "       ...,\n",
       "       [709, 'France', 'Female', ..., 0, 1, 42085.58],\n",
       "       [772, 'Germany', 'Male', ..., 1, 0, 92888.52],\n",
       "       [792, 'France', 'Female', ..., 1, 0, 38190.78]], dtype=object)"
      ]
     },
     "execution_count": 7,
     "metadata": {
      "tags": []
     },
     "output_type": "execute_result"
    }
   ],
   "source": [
    "X"
   ]
  },
  {
   "cell_type": "code",
   "execution_count": 8,
   "metadata": {
    "colab": {
     "base_uri": "https://localhost:8080/",
     "height": 34
    },
    "colab_type": "code",
    "id": "Iwp6KTP0RMmv",
    "outputId": "75600b94-c616-4292-c75c-b34b13b4cd1d"
   },
   "outputs": [
    {
     "data": {
      "text/plain": [
       "array([1, 0, 1, ..., 1, 1, 0])"
      ]
     },
     "execution_count": 8,
     "metadata": {
      "tags": []
     },
     "output_type": "execute_result"
    }
   ],
   "source": [
    "y"
   ]
  },
  {
   "cell_type": "code",
   "execution_count": 10,
   "metadata": {
    "colab": {
     "base_uri": "https://localhost:8080/",
     "height": 51
    },
    "colab_type": "code",
    "id": "8fZp0qPlRR6T",
    "outputId": "b41fdf17-801f-4a14-839f-3b66d6aaffed"
   },
   "outputs": [
    {
     "name": "stdout",
     "output_type": "stream",
     "text": [
      "['France' 'Spain' 'France' 'France' 'Spain' 'Spain' 'France' 'Germany'] ... will now become: \n",
      "[0 2 0 0 2 2 0 1]\n"
     ]
    }
   ],
   "source": [
    "print(X[:8,1], '... will now become: ')\n",
    "from sklearn.preprocessing import LabelEncoder, OneHotEncoder\n",
    "label_X_country_encoder = LabelEncoder()\n",
    "X[:,1] = label_X_country_encoder.fit_transform(X[:,1])\n",
    "print(X[:8,1])"
   ]
  },
  {
   "cell_type": "code",
   "execution_count": 11,
   "metadata": {
    "colab": {
     "base_uri": "https://localhost:8080/",
     "height": 51
    },
    "colab_type": "code",
    "id": "dhWKEHkYRbhK",
    "outputId": "0b908b76-d08f-4b63-9289-26939fbabb14"
   },
   "outputs": [
    {
     "name": "stdout",
     "output_type": "stream",
     "text": [
      "['Female' 'Female' 'Female' 'Female' 'Female' 'Male'] ... will now become: \n",
      "[0 0 0 0 0 1]\n"
     ]
    }
   ],
   "source": [
    "# We will do the same thing for gender. this will be binary in this dataset\n",
    "print(X[:6,2], '... will now become: ')\n",
    "from sklearn.preprocessing import LabelEncoder, OneHotEncoder\n",
    "label_X_gender_encoder = LabelEncoder()\n",
    "X[:,2] = label_X_gender_encoder.fit_transform(X[:,2])\n",
    "print(X[:6,2])"
   ]
  },
  {
   "cell_type": "code",
   "execution_count": 12,
   "metadata": {
    "colab": {
     "base_uri": "https://localhost:8080/",
     "height": 139
    },
    "colab_type": "code",
    "id": "VggNODjfRh5e",
    "outputId": "9bfef432-fcf8-4534-f5cc-6c1d5a10b4ee"
   },
   "outputs": [
    {
     "name": "stderr",
     "output_type": "stream",
     "text": [
      "/usr/local/lib/python3.6/dist-packages/sklearn/preprocessing/_encoders.py:415: FutureWarning: The handling of integer data will change in version 0.22. Currently, the categories are determined based on the range [0, max(values)], while in the future they will be determined based on the unique values.\n",
      "If you want the future behaviour and silence this warning, you can specify \"categories='auto'\".\n",
      "In case you used a LabelEncoder before this OneHotEncoder to convert the categories to integers, then you can now use the OneHotEncoder directly.\n",
      "  warnings.warn(msg, FutureWarning)\n",
      "/usr/local/lib/python3.6/dist-packages/sklearn/preprocessing/_encoders.py:451: DeprecationWarning: The 'categorical_features' keyword is deprecated in version 0.20 and will be removed in 0.22. You can use the ColumnTransformer instead.\n",
      "  \"use the ColumnTransformer instead.\", DeprecationWarning)\n"
     ]
    }
   ],
   "source": [
    "countryhotencoder = OneHotEncoder(categorical_features = [1]) # 1 is the country column\n",
    "X = countryhotencoder.fit_transform(X).toarray()"
   ]
  },
  {
   "cell_type": "code",
   "execution_count": 13,
   "metadata": {
    "colab": {
     "base_uri": "https://localhost:8080/",
     "height": 238
    },
    "colab_type": "code",
    "id": "mNg2YXosRklC",
    "outputId": "9c43bebc-a191-430c-d0c3-6a8c43c36d53"
   },
   "outputs": [
    {
     "data": {
      "text/plain": [
       "array([[1.0000000e+00, 0.0000000e+00, 0.0000000e+00, ..., 1.0000000e+00,\n",
       "        1.0000000e+00, 1.0134888e+05],\n",
       "       [0.0000000e+00, 0.0000000e+00, 1.0000000e+00, ..., 0.0000000e+00,\n",
       "        1.0000000e+00, 1.1254258e+05],\n",
       "       [1.0000000e+00, 0.0000000e+00, 0.0000000e+00, ..., 1.0000000e+00,\n",
       "        0.0000000e+00, 1.1393157e+05],\n",
       "       ...,\n",
       "       [1.0000000e+00, 0.0000000e+00, 0.0000000e+00, ..., 0.0000000e+00,\n",
       "        1.0000000e+00, 4.2085580e+04],\n",
       "       [0.0000000e+00, 1.0000000e+00, 0.0000000e+00, ..., 1.0000000e+00,\n",
       "        0.0000000e+00, 9.2888520e+04],\n",
       "       [1.0000000e+00, 0.0000000e+00, 0.0000000e+00, ..., 1.0000000e+00,\n",
       "        0.0000000e+00, 3.8190780e+04]])"
      ]
     },
     "execution_count": 13,
     "metadata": {
      "tags": []
     },
     "output_type": "execute_result"
    }
   ],
   "source": [
    "X"
   ]
  },
  {
   "cell_type": "code",
   "execution_count": 0,
   "metadata": {
    "colab": {},
    "colab_type": "code",
    "id": "bLofL6aWRnT0"
   },
   "outputs": [],
   "source": [
    "X = X[:,1:]"
   ]
  },
  {
   "cell_type": "markdown",
   "metadata": {
    "colab_type": "text",
    "id": "Rf1dCMY5S95f"
   },
   "source": [
    " 4. Divide the data set into Train and test sets"
   ]
  },
  {
   "cell_type": "code",
   "execution_count": 0,
   "metadata": {
    "colab": {},
    "colab_type": "code",
    "id": "n16o6gUBRoZi"
   },
   "outputs": [],
   "source": [
    "from sklearn.model_selection import train_test_split\n",
    "X_train, X_test, y_train, y_test = train_test_split(X,y, test_size = 0.2, random_state = 0)"
   ]
  },
  {
   "cell_type": "markdown",
   "metadata": {
    "colab_type": "text",
    "id": "sKGooRaETAyW"
   },
   "source": [
    " 5. Normalize the train and test data (5 points)"
   ]
  },
  {
   "cell_type": "code",
   "execution_count": 0,
   "metadata": {
    "colab": {},
    "colab_type": "code",
    "id": "FYH4BjQARrFx"
   },
   "outputs": [],
   "source": [
    "from sklearn.preprocessing import StandardScaler\n",
    "sc=StandardScaler()\n",
    "X_train = sc.fit_transform(X_train)\n",
    "X_test = sc.transform(X_test)"
   ]
  },
  {
   "cell_type": "code",
   "execution_count": 17,
   "metadata": {
    "colab": {
     "base_uri": "https://localhost:8080/",
     "height": 238
    },
    "colab_type": "code",
    "id": "v-D6onaYRtMV",
    "outputId": "58441347-9608-4515-d215-9e04ef76b029"
   },
   "outputs": [
    {
     "data": {
      "text/plain": [
       "array([[-0.5698444 ,  1.74309049,  0.16958176, ...,  0.64259497,\n",
       "        -1.03227043,  1.10643166],\n",
       "       [ 1.75486502, -0.57369368, -2.30455945, ...,  0.64259497,\n",
       "         0.9687384 , -0.74866447],\n",
       "       [-0.5698444 , -0.57369368, -1.19119591, ...,  0.64259497,\n",
       "        -1.03227043,  1.48533467],\n",
       "       ...,\n",
       "       [-0.5698444 , -0.57369368,  0.9015152 , ...,  0.64259497,\n",
       "        -1.03227043,  1.41231994],\n",
       "       [-0.5698444 ,  1.74309049, -0.62420521, ...,  0.64259497,\n",
       "         0.9687384 ,  0.84432121],\n",
       "       [ 1.75486502, -0.57369368, -0.28401079, ...,  0.64259497,\n",
       "        -1.03227043,  0.32472465]])"
      ]
     },
     "execution_count": 17,
     "metadata": {
      "tags": []
     },
     "output_type": "execute_result"
    }
   ],
   "source": [
    "X_train"
   ]
  },
  {
   "cell_type": "markdown",
   "metadata": {
    "colab_type": "text",
    "id": "1DVEYblWTE-I"
   },
   "source": [
    " 6. Initialize and build the model (20 points)"
   ]
  },
  {
   "cell_type": "code",
   "execution_count": 18,
   "metadata": {
    "colab": {
     "base_uri": "https://localhost:8080/",
     "height": 34
    },
    "colab_type": "code",
    "id": "bzuZ1d_BRvX4",
    "outputId": "c6a5707d-8f6c-45cc-e436-2dab8d720878"
   },
   "outputs": [
    {
     "name": "stderr",
     "output_type": "stream",
     "text": [
      "Using TensorFlow backend.\n"
     ]
    }
   ],
   "source": [
    "import keras"
   ]
  },
  {
   "cell_type": "code",
   "execution_count": 0,
   "metadata": {
    "colab": {},
    "colab_type": "code",
    "id": "YE5VJSs0RyIX"
   },
   "outputs": [],
   "source": [
    "from keras.models import Sequential\n",
    "from keras.layers import Dense"
   ]
  },
  {
   "cell_type": "code",
   "execution_count": 20,
   "metadata": {
    "colab": {
     "base_uri": "https://localhost:8080/",
     "height": 88
    },
    "colab_type": "code",
    "id": "_0fA_5BmR0AV",
    "outputId": "d01c3470-f1be-4573-ea89-1d7fcddf567d"
   },
   "outputs": [
    {
     "name": "stderr",
     "output_type": "stream",
     "text": [
      "WARNING: Logging before flag parsing goes to stderr.\n",
      "W0724 04:39:58.567935 140328350443392 deprecation_wrapper.py:119] From /usr/local/lib/python3.6/dist-packages/keras/backend/tensorflow_backend.py:74: The name tf.get_default_graph is deprecated. Please use tf.compat.v1.get_default_graph instead.\n",
      "\n"
     ]
    }
   ],
   "source": [
    "classifier = Sequential()"
   ]
  },
  {
   "cell_type": "markdown",
   "metadata": {
    "colab_type": "text",
    "id": "28b-dTHvTLT8"
   },
   "source": [
    " 7. Optimize the model (10 points)"
   ]
  },
  {
   "cell_type": "code",
   "execution_count": 21,
   "metadata": {
    "colab": {
     "base_uri": "https://localhost:8080/",
     "height": 105
    },
    "colab_type": "code",
    "id": "vfhft_jdR12g",
    "outputId": "7ba12b27-d0cf-4968-f195-bd53282588b0"
   },
   "outputs": [
    {
     "name": "stderr",
     "output_type": "stream",
     "text": [
      "W0724 04:40:08.011411 140328350443392 deprecation_wrapper.py:119] From /usr/local/lib/python3.6/dist-packages/keras/backend/tensorflow_backend.py:517: The name tf.placeholder is deprecated. Please use tf.compat.v1.placeholder instead.\n",
      "\n",
      "W0724 04:40:08.025593 140328350443392 deprecation_wrapper.py:119] From /usr/local/lib/python3.6/dist-packages/keras/backend/tensorflow_backend.py:4138: The name tf.random_uniform is deprecated. Please use tf.random.uniform instead.\n",
      "\n"
     ]
    }
   ],
   "source": [
    "classifier.add(Dense(activation = 'relu', input_dim = 11, units=6, kernel_initializer='uniform'))"
   ]
  },
  {
   "cell_type": "code",
   "execution_count": 0,
   "metadata": {
    "colab": {},
    "colab_type": "code",
    "id": "bwo2PFDkR4Js"
   },
   "outputs": [],
   "source": [
    "classifier.add(Dense(activation = 'relu', units=6, kernel_initializer='uniform')) "
   ]
  },
  {
   "cell_type": "code",
   "execution_count": 0,
   "metadata": {
    "colab": {},
    "colab_type": "code",
    "id": "yaWhNHt_R6Oz"
   },
   "outputs": [],
   "source": [
    "classifier.add(Dense(activation = 'sigmoid', units=1, kernel_initializer='uniform')) "
   ]
  },
  {
   "cell_type": "code",
   "execution_count": 24,
   "metadata": {
    "colab": {
     "base_uri": "https://localhost:8080/",
     "height": 156
    },
    "colab_type": "code",
    "id": "szjHL95LR8gx",
    "outputId": "9ef2aebc-d791-4c3b-c8fd-042ef70ff57b"
   },
   "outputs": [
    {
     "name": "stderr",
     "output_type": "stream",
     "text": [
      "W0724 04:40:35.540649 140328350443392 deprecation_wrapper.py:119] From /usr/local/lib/python3.6/dist-packages/keras/optimizers.py:790: The name tf.train.Optimizer is deprecated. Please use tf.compat.v1.train.Optimizer instead.\n",
      "\n",
      "W0724 04:40:35.576021 140328350443392 deprecation_wrapper.py:119] From /usr/local/lib/python3.6/dist-packages/keras/backend/tensorflow_backend.py:3376: The name tf.log is deprecated. Please use tf.math.log instead.\n",
      "\n",
      "W0724 04:40:35.583434 140328350443392 deprecation.py:323] From /usr/local/lib/python3.6/dist-packages/tensorflow/python/ops/nn_impl.py:180: add_dispatch_support.<locals>.wrapper (from tensorflow.python.ops.array_ops) is deprecated and will be removed in a future version.\n",
      "Instructions for updating:\n",
      "Use tf.where in 2.0, which has the same broadcast rule as np.where\n"
     ]
    }
   ],
   "source": [
    "classifier.compile(optimizer='adam', loss = 'binary_crossentropy', metrics=['accuracy'])"
   ]
  },
  {
   "cell_type": "code",
   "execution_count": 25,
   "metadata": {
    "colab": {
     "base_uri": "https://localhost:8080/",
     "height": 1000
    },
    "colab_type": "code",
    "id": "j84-wHdCR-4L",
    "outputId": "ffa1992e-d90d-4c82-e4e2-64b35e36a607"
   },
   "outputs": [
    {
     "name": "stderr",
     "output_type": "stream",
     "text": [
      "W0724 04:40:43.612242 140328350443392 deprecation_wrapper.py:119] From /usr/local/lib/python3.6/dist-packages/keras/backend/tensorflow_backend.py:986: The name tf.assign_add is deprecated. Please use tf.compat.v1.assign_add instead.\n",
      "\n"
     ]
    },
    {
     "name": "stdout",
     "output_type": "stream",
     "text": [
      "Epoch 1/100\n",
      "8000/8000 [==============================] - 2s 217us/step - loss: 0.4847 - acc: 0.7959\n",
      "Epoch 2/100\n",
      "8000/8000 [==============================] - 1s 111us/step - loss: 0.4303 - acc: 0.7960\n",
      "Epoch 3/100\n",
      "8000/8000 [==============================] - 1s 113us/step - loss: 0.4280 - acc: 0.7960\n",
      "Epoch 4/100\n",
      "8000/8000 [==============================] - 1s 108us/step - loss: 0.4246 - acc: 0.7960\n",
      "Epoch 5/100\n",
      "8000/8000 [==============================] - 1s 110us/step - loss: 0.4200 - acc: 0.8162\n",
      "Epoch 6/100\n",
      "8000/8000 [==============================] - 1s 108us/step - loss: 0.4170 - acc: 0.8249\n",
      "Epoch 7/100\n",
      "8000/8000 [==============================] - 1s 109us/step - loss: 0.4146 - acc: 0.8271\n",
      "Epoch 8/100\n",
      "8000/8000 [==============================] - 1s 107us/step - loss: 0.4133 - acc: 0.8295\n",
      "Epoch 9/100\n",
      "8000/8000 [==============================] - 1s 110us/step - loss: 0.4117 - acc: 0.8319\n",
      "Epoch 10/100\n",
      "8000/8000 [==============================] - 1s 108us/step - loss: 0.4106 - acc: 0.8330\n",
      "Epoch 11/100\n",
      "8000/8000 [==============================] - 1s 111us/step - loss: 0.4097 - acc: 0.8347\n",
      "Epoch 12/100\n",
      "8000/8000 [==============================] - 1s 111us/step - loss: 0.4094 - acc: 0.8351\n",
      "Epoch 13/100\n",
      "8000/8000 [==============================] - 1s 111us/step - loss: 0.4083 - acc: 0.8349\n",
      "Epoch 14/100\n",
      "8000/8000 [==============================] - 1s 111us/step - loss: 0.4079 - acc: 0.8339\n",
      "Epoch 15/100\n",
      "8000/8000 [==============================] - 1s 113us/step - loss: 0.4076 - acc: 0.8337\n",
      "Epoch 16/100\n",
      "8000/8000 [==============================] - 1s 112us/step - loss: 0.4071 - acc: 0.8337\n",
      "Epoch 17/100\n",
      "8000/8000 [==============================] - 1s 110us/step - loss: 0.4065 - acc: 0.8359\n",
      "Epoch 18/100\n",
      "8000/8000 [==============================] - 1s 109us/step - loss: 0.4060 - acc: 0.8344\n",
      "Epoch 19/100\n",
      "8000/8000 [==============================] - 1s 113us/step - loss: 0.4056 - acc: 0.8354\n",
      "Epoch 20/100\n",
      "8000/8000 [==============================] - 1s 112us/step - loss: 0.4054 - acc: 0.8334\n",
      "Epoch 21/100\n",
      "8000/8000 [==============================] - 1s 111us/step - loss: 0.4048 - acc: 0.8355\n",
      "Epoch 22/100\n",
      "8000/8000 [==============================] - 1s 112us/step - loss: 0.4047 - acc: 0.8361\n",
      "Epoch 23/100\n",
      "8000/8000 [==============================] - 1s 109us/step - loss: 0.4042 - acc: 0.8355\n",
      "Epoch 24/100\n",
      "8000/8000 [==============================] - 1s 111us/step - loss: 0.4042 - acc: 0.8342\n",
      "Epoch 25/100\n",
      "8000/8000 [==============================] - 1s 109us/step - loss: 0.4035 - acc: 0.8344\n",
      "Epoch 26/100\n",
      "8000/8000 [==============================] - 1s 109us/step - loss: 0.4031 - acc: 0.8336\n",
      "Epoch 27/100\n",
      "8000/8000 [==============================] - 1s 118us/step - loss: 0.4032 - acc: 0.8350\n",
      "Epoch 28/100\n",
      "8000/8000 [==============================] - 1s 114us/step - loss: 0.4034 - acc: 0.8357\n",
      "Epoch 29/100\n",
      "8000/8000 [==============================] - 1s 114us/step - loss: 0.4030 - acc: 0.8361\n",
      "Epoch 30/100\n",
      "8000/8000 [==============================] - 1s 109us/step - loss: 0.4025 - acc: 0.8372\n",
      "Epoch 31/100\n",
      "8000/8000 [==============================] - 1s 110us/step - loss: 0.4029 - acc: 0.8351\n",
      "Epoch 32/100\n",
      "8000/8000 [==============================] - 1s 111us/step - loss: 0.4022 - acc: 0.8357\n",
      "Epoch 33/100\n",
      "8000/8000 [==============================] - 1s 110us/step - loss: 0.4023 - acc: 0.8347\n",
      "Epoch 34/100\n",
      "8000/8000 [==============================] - 1s 112us/step - loss: 0.4017 - acc: 0.8359\n",
      "Epoch 35/100\n",
      "8000/8000 [==============================] - 1s 113us/step - loss: 0.4022 - acc: 0.8374\n",
      "Epoch 36/100\n",
      "8000/8000 [==============================] - 1s 111us/step - loss: 0.4019 - acc: 0.8360\n",
      "Epoch 37/100\n",
      "8000/8000 [==============================] - 1s 113us/step - loss: 0.4018 - acc: 0.8350\n",
      "Epoch 38/100\n",
      "8000/8000 [==============================] - 1s 116us/step - loss: 0.4016 - acc: 0.8346\n",
      "Epoch 39/100\n",
      "8000/8000 [==============================] - 1s 109us/step - loss: 0.4011 - acc: 0.8374\n",
      "Epoch 40/100\n",
      "8000/8000 [==============================] - 1s 111us/step - loss: 0.4016 - acc: 0.8354\n",
      "Epoch 41/100\n",
      "8000/8000 [==============================] - 1s 109us/step - loss: 0.4011 - acc: 0.8365\n",
      "Epoch 42/100\n",
      "8000/8000 [==============================] - 1s 110us/step - loss: 0.4015 - acc: 0.8356\n",
      "Epoch 43/100\n",
      "8000/8000 [==============================] - 1s 108us/step - loss: 0.4012 - acc: 0.8365\n",
      "Epoch 44/100\n",
      "8000/8000 [==============================] - 1s 111us/step - loss: 0.4011 - acc: 0.8369\n",
      "Epoch 45/100\n",
      "8000/8000 [==============================] - 1s 109us/step - loss: 0.4007 - acc: 0.8340\n",
      "Epoch 46/100\n",
      "8000/8000 [==============================] - 1s 109us/step - loss: 0.4004 - acc: 0.8374\n",
      "Epoch 47/100\n",
      "8000/8000 [==============================] - 1s 109us/step - loss: 0.4007 - acc: 0.8340\n",
      "Epoch 48/100\n",
      "8000/8000 [==============================] - 1s 108us/step - loss: 0.4012 - acc: 0.8360\n",
      "Epoch 49/100\n",
      "8000/8000 [==============================] - 1s 111us/step - loss: 0.4004 - acc: 0.8359\n",
      "Epoch 50/100\n",
      "8000/8000 [==============================] - 1s 113us/step - loss: 0.4001 - acc: 0.8370\n",
      "Epoch 51/100\n",
      "8000/8000 [==============================] - 1s 111us/step - loss: 0.4005 - acc: 0.8362\n",
      "Epoch 52/100\n",
      "8000/8000 [==============================] - 1s 110us/step - loss: 0.4005 - acc: 0.8357\n",
      "Epoch 53/100\n",
      "8000/8000 [==============================] - 1s 110us/step - loss: 0.3999 - acc: 0.8372\n",
      "Epoch 54/100\n",
      "8000/8000 [==============================] - 1s 112us/step - loss: 0.4002 - acc: 0.8365\n",
      "Epoch 55/100\n",
      "8000/8000 [==============================] - 1s 110us/step - loss: 0.4000 - acc: 0.8374\n",
      "Epoch 56/100\n",
      "8000/8000 [==============================] - 1s 109us/step - loss: 0.4003 - acc: 0.8352\n",
      "Epoch 57/100\n",
      "8000/8000 [==============================] - 1s 110us/step - loss: 0.4000 - acc: 0.8359\n",
      "Epoch 58/100\n",
      "8000/8000 [==============================] - 1s 112us/step - loss: 0.4007 - acc: 0.8344\n",
      "Epoch 59/100\n",
      "8000/8000 [==============================] - 1s 109us/step - loss: 0.4000 - acc: 0.8359\n",
      "Epoch 60/100\n",
      "8000/8000 [==============================] - 1s 110us/step - loss: 0.3998 - acc: 0.8349\n",
      "Epoch 61/100\n",
      "8000/8000 [==============================] - 1s 109us/step - loss: 0.3995 - acc: 0.8351\n",
      "Epoch 62/100\n",
      "8000/8000 [==============================] - 1s 112us/step - loss: 0.4001 - acc: 0.8355\n",
      "Epoch 63/100\n",
      "8000/8000 [==============================] - 1s 111us/step - loss: 0.4001 - acc: 0.8367\n",
      "Epoch 64/100\n",
      "8000/8000 [==============================] - 1s 110us/step - loss: 0.3996 - acc: 0.8360\n",
      "Epoch 65/100\n",
      "8000/8000 [==============================] - 1s 109us/step - loss: 0.3999 - acc: 0.8362\n",
      "Epoch 66/100\n",
      "8000/8000 [==============================] - 1s 111us/step - loss: 0.3997 - acc: 0.8356\n",
      "Epoch 67/100\n",
      "8000/8000 [==============================] - 1s 109us/step - loss: 0.3994 - acc: 0.8369\n",
      "Epoch 68/100\n",
      "8000/8000 [==============================] - 1s 109us/step - loss: 0.3995 - acc: 0.8357\n",
      "Epoch 69/100\n",
      "8000/8000 [==============================] - 1s 111us/step - loss: 0.3998 - acc: 0.8349\n",
      "Epoch 70/100\n",
      "8000/8000 [==============================] - 1s 110us/step - loss: 0.3996 - acc: 0.8356\n",
      "Epoch 71/100\n",
      "8000/8000 [==============================] - 1s 110us/step - loss: 0.3996 - acc: 0.8354\n",
      "Epoch 72/100\n",
      "8000/8000 [==============================] - 1s 112us/step - loss: 0.3998 - acc: 0.8347\n",
      "Epoch 73/100\n",
      "8000/8000 [==============================] - 1s 111us/step - loss: 0.3994 - acc: 0.8369\n",
      "Epoch 74/100\n",
      "8000/8000 [==============================] - 1s 114us/step - loss: 0.3995 - acc: 0.8357\n",
      "Epoch 75/100\n",
      "8000/8000 [==============================] - 1s 110us/step - loss: 0.3996 - acc: 0.8377\n",
      "Epoch 76/100\n",
      "8000/8000 [==============================] - 1s 108us/step - loss: 0.3996 - acc: 0.8370\n",
      "Epoch 77/100\n",
      "8000/8000 [==============================] - 1s 110us/step - loss: 0.3998 - acc: 0.8351\n",
      "Epoch 78/100\n",
      "8000/8000 [==============================] - 1s 111us/step - loss: 0.3996 - acc: 0.8354\n",
      "Epoch 79/100\n",
      "8000/8000 [==============================] - 1s 113us/step - loss: 0.3994 - acc: 0.8357\n",
      "Epoch 80/100\n",
      "8000/8000 [==============================] - 1s 112us/step - loss: 0.3996 - acc: 0.8349\n",
      "Epoch 81/100\n",
      "8000/8000 [==============================] - 1s 112us/step - loss: 0.3997 - acc: 0.8369\n",
      "Epoch 82/100\n",
      "8000/8000 [==============================] - 1s 113us/step - loss: 0.3997 - acc: 0.8365\n",
      "Epoch 83/100\n",
      "8000/8000 [==============================] - 1s 113us/step - loss: 0.3991 - acc: 0.8366\n",
      "Epoch 84/100\n",
      "8000/8000 [==============================] - 1s 113us/step - loss: 0.3996 - acc: 0.8362\n",
      "Epoch 85/100\n",
      "8000/8000 [==============================] - 1s 111us/step - loss: 0.3993 - acc: 0.8351\n",
      "Epoch 86/100\n",
      "8000/8000 [==============================] - 1s 118us/step - loss: 0.3993 - acc: 0.8362\n",
      "Epoch 87/100\n",
      "8000/8000 [==============================] - 1s 115us/step - loss: 0.3993 - acc: 0.8377\n",
      "Epoch 88/100\n",
      "8000/8000 [==============================] - 1s 111us/step - loss: 0.3997 - acc: 0.8357\n",
      "Epoch 89/100\n",
      "8000/8000 [==============================] - 1s 117us/step - loss: 0.3995 - acc: 0.8361\n",
      "Epoch 90/100\n",
      "8000/8000 [==============================] - 1s 116us/step - loss: 0.3992 - acc: 0.8362\n",
      "Epoch 91/100\n",
      "8000/8000 [==============================] - 1s 113us/step - loss: 0.3993 - acc: 0.8345\n",
      "Epoch 92/100\n",
      "8000/8000 [==============================] - 1s 112us/step - loss: 0.3994 - acc: 0.8360\n",
      "Epoch 93/100\n",
      "8000/8000 [==============================] - 1s 108us/step - loss: 0.3994 - acc: 0.8367\n",
      "Epoch 94/100\n",
      "8000/8000 [==============================] - 1s 111us/step - loss: 0.3994 - acc: 0.8364\n",
      "Epoch 95/100\n",
      "8000/8000 [==============================] - 1s 113us/step - loss: 0.3995 - acc: 0.8359\n",
      "Epoch 96/100\n",
      "8000/8000 [==============================] - 1s 111us/step - loss: 0.3993 - acc: 0.8372\n",
      "Epoch 97/100\n",
      "8000/8000 [==============================] - 1s 113us/step - loss: 0.3994 - acc: 0.8367\n",
      "Epoch 98/100\n",
      "8000/8000 [==============================] - 1s 112us/step - loss: 0.3992 - acc: 0.8354\n",
      "Epoch 99/100\n",
      "8000/8000 [==============================] - 1s 111us/step - loss: 0.3993 - acc: 0.8361\n",
      "Epoch 100/100\n",
      "8000/8000 [==============================] - 1s 111us/step - loss: 0.3992 - acc: 0.8376\n"
     ]
    },
    {
     "data": {
      "text/plain": [
       "<keras.callbacks.History at 0x7fa06ecf95f8>"
      ]
     },
     "execution_count": 25,
     "metadata": {
      "tags": []
     },
     "output_type": "execute_result"
    }
   ],
   "source": [
    "classifier.fit(X_train, y_train, batch_size=10, epochs=100)"
   ]
  },
  {
   "cell_type": "code",
   "execution_count": 26,
   "metadata": {
    "colab": {
     "base_uri": "https://localhost:8080/",
     "height": 136
    },
    "colab_type": "code",
    "id": "z1g0PQ-oSAzD",
    "outputId": "5104a29b-f0e4-4720-d58b-2f26cc384424"
   },
   "outputs": [
    {
     "name": "stdout",
     "output_type": "stream",
     "text": [
      "[[0.23738253]\n",
      " [0.32504714]\n",
      " [0.15054956]\n",
      " ...\n",
      " [0.2189515 ]\n",
      " [0.17130917]\n",
      " [0.12343076]]\n"
     ]
    }
   ],
   "source": [
    "y_pred = classifier.predict(X_test)\n",
    "print(y_pred)"
   ]
  },
  {
   "cell_type": "markdown",
   "metadata": {
    "colab_type": "text",
    "id": "LvTbW1CHTPQ1"
   },
   "source": [
    "9. Predict the results using 0.5 as a threshold (10 points)"
   ]
  },
  {
   "cell_type": "code",
   "execution_count": 27,
   "metadata": {
    "colab": {
     "base_uri": "https://localhost:8080/",
     "height": 136
    },
    "colab_type": "code",
    "id": "2psqjswzSYUH",
    "outputId": "dc7890fb-2e6d-4633-d802-a13a22aeea69"
   },
   "outputs": [
    {
     "name": "stdout",
     "output_type": "stream",
     "text": [
      "[[False]\n",
      " [False]\n",
      " [False]\n",
      " ...\n",
      " [False]\n",
      " [False]\n",
      " [False]]\n"
     ]
    }
   ],
   "source": [
    "y_pred = (y_pred > 0.5)\n",
    "print(y_pred)"
   ]
  },
  {
   "cell_type": "markdown",
   "metadata": {
    "colab_type": "text",
    "id": "uokLEvz_TS8O"
   },
   "source": [
    " 10. Print the Accuracy score and confusion matrix (5 points)"
   ]
  },
  {
   "cell_type": "code",
   "execution_count": 28,
   "metadata": {
    "colab": {
     "base_uri": "https://localhost:8080/",
     "height": 51
    },
    "colab_type": "code",
    "id": "VKyiNuSiSaVl",
    "outputId": "faa7ac20-7013-4a30-a62a-1456263d476d"
   },
   "outputs": [
    {
     "name": "stdout",
     "output_type": "stream",
     "text": [
      "[[1538   57]\n",
      " [ 257  148]]\n"
     ]
    }
   ],
   "source": [
    "from sklearn.metrics import confusion_matrix\n",
    "cm = confusion_matrix(y_test, y_pred)\n",
    "print(cm)"
   ]
  },
  {
   "cell_type": "code",
   "execution_count": 29,
   "metadata": {
    "colab": {
     "base_uri": "https://localhost:8080/",
     "height": 34
    },
    "colab_type": "code",
    "id": "kQejVSLBScZA",
    "outputId": "1e234249-7c5b-40d7-bea2-f10bde24bad4"
   },
   "outputs": [
    {
     "name": "stdout",
     "output_type": "stream",
     "text": [
      "84.3 % of testing data was classified correctly\n"
     ]
    }
   ],
   "source": [
    "print (((cm[0][0]+cm[1][1])*100)/(cm[0][0]+cm[1][1]+cm[0][1]+cm[1][0]), '% of testing data was classified correctly')"
   ]
  },
  {
   "cell_type": "code",
   "execution_count": 0,
   "metadata": {
    "colab": {},
    "colab_type": "code",
    "id": "OTBYTfq5SeyP"
   },
   "outputs": [],
   "source": []
  }
 ],
 "metadata": {
  "colab": {
   "collapsed_sections": [],
   "name": "Untitled3.ipynb",
   "provenance": [],
   "version": "0.3.2"
  },
  "kernelspec": {
   "display_name": "Python 3",
   "language": "python",
   "name": "python3"
  },
  "language_info": {
   "codemirror_mode": {
    "name": "ipython",
    "version": 3
   },
   "file_extension": ".py",
   "mimetype": "text/x-python",
   "name": "python",
   "nbconvert_exporter": "python",
   "pygments_lexer": "ipython3",
   "version": "3.7.3"
  }
 },
 "nbformat": 4,
 "nbformat_minor": 1
}
